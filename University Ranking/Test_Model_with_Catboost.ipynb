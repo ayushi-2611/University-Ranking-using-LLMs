{
 "cells": [
  {
   "cell_type": "code",
   "execution_count": 3,
   "metadata": {
    "colab": {
     "base_uri": "https://localhost:8080/"
    },
    "id": "pNxj2W9jQrng",
    "outputId": "13cc8c89-af8d-479f-cefc-6817b78aa6e2"
   },
   "outputs": [
    {
     "name": "stdout",
     "output_type": "stream",
     "text": [
      "Requirement already satisfied: catboost in /usr/local/lib/python3.10/dist-packages (1.2.2)\n",
      "Requirement already satisfied: graphviz in /usr/local/lib/python3.10/dist-packages (from catboost) (0.20.1)\n",
      "Requirement already satisfied: matplotlib in /usr/local/lib/python3.10/dist-packages (from catboost) (3.7.1)\n",
      "Requirement already satisfied: numpy>=1.16.0 in /usr/local/lib/python3.10/dist-packages (from catboost) (1.23.5)\n",
      "Requirement already satisfied: pandas>=0.24 in /usr/local/lib/python3.10/dist-packages (from catboost) (1.5.3)\n",
      "Requirement already satisfied: scipy in /usr/local/lib/python3.10/dist-packages (from catboost) (1.11.3)\n",
      "Requirement already satisfied: plotly in /usr/local/lib/python3.10/dist-packages (from catboost) (5.15.0)\n",
      "Requirement already satisfied: six in /usr/local/lib/python3.10/dist-packages (from catboost) (1.16.0)\n",
      "Requirement already satisfied: python-dateutil>=2.8.1 in /usr/local/lib/python3.10/dist-packages (from pandas>=0.24->catboost) (2.8.2)\n",
      "Requirement already satisfied: pytz>=2020.1 in /usr/local/lib/python3.10/dist-packages (from pandas>=0.24->catboost) (2023.3.post1)\n",
      "Requirement already satisfied: contourpy>=1.0.1 in /usr/local/lib/python3.10/dist-packages (from matplotlib->catboost) (1.2.0)\n",
      "Requirement already satisfied: cycler>=0.10 in /usr/local/lib/python3.10/dist-packages (from matplotlib->catboost) (0.12.1)\n",
      "Requirement already satisfied: fonttools>=4.22.0 in /usr/local/lib/python3.10/dist-packages (from matplotlib->catboost) (4.44.0)\n",
      "Requirement already satisfied: kiwisolver>=1.0.1 in /usr/local/lib/python3.10/dist-packages (from matplotlib->catboost) (1.4.5)\n",
      "Requirement already satisfied: packaging>=20.0 in /usr/local/lib/python3.10/dist-packages (from matplotlib->catboost) (23.2)\n",
      "Requirement already satisfied: pillow>=6.2.0 in /usr/local/lib/python3.10/dist-packages (from matplotlib->catboost) (9.4.0)\n",
      "Requirement already satisfied: pyparsing>=2.3.1 in /usr/local/lib/python3.10/dist-packages (from matplotlib->catboost) (3.1.1)\n",
      "Requirement already satisfied: tenacity>=6.2.0 in /usr/local/lib/python3.10/dist-packages (from plotly->catboost) (8.2.3)\n"
     ]
    }
   ],
   "source": [
    "import pandas as pd\n",
    "!pip install catboost\n",
    "from catboost import CatBoostClassifier\n",
    "from sklearn.model_selection import train_test_split\n",
    "from sklearn.preprocessing import StandardScaler\n",
    "from sklearn.metrics import accuracy_score"
   ]
  },
  {
   "cell_type": "code",
   "execution_count": 4,
   "metadata": {
    "colab": {
     "base_uri": "https://localhost:8080/"
    },
    "id": "sTMaZOvaRIQ8",
    "outputId": "64cdad32-45da-41d7-8529-47ddc0d5288f"
   },
   "outputs": [
    {
     "name": "stdout",
     "output_type": "stream",
     "text": [
      "Mounted at /content/gdrive\n"
     ]
    }
   ],
   "source": [
    "#Load Dataset\n",
    "from google.colab import drive\n",
    "drive.mount('/content/gdrive')\n",
    "import pandas as pd\n",
    "data=pd.read_excel(r'/content/gdrive/My Drive/8750/excel1.xlsx')"
   ]
  },
  {
   "cell_type": "code",
   "execution_count": 5,
   "metadata": {
    "id": "G5CC6ERMRU9x"
   },
   "outputs": [],
   "source": [
    "# Data Cleaning and Preprocessing\n",
    "# Dropping columns with more than 30% missing values\n",
    "missing_values = data.isnull().sum()\n",
    "missing_percentage = (missing_values / len(data)) * 100\n",
    "columns_to_drop = missing_percentage[missing_percentage > 30].index\n",
    "data_cleaned = data.drop(columns=columns_to_drop)"
   ]
  },
  {
   "cell_type": "code",
   "execution_count": 6,
   "metadata": {
    "id": "6Hd2KvnMRXgy"
   },
   "outputs": [],
   "source": [
    "# Imputing missing values\n",
    "numerical_columns = data_cleaned.select_dtypes(include=['number']).columns\n",
    "data_cleaned[numerical_columns] = data_cleaned[numerical_columns].apply(lambda x: x.fillna(x.median()))\n",
    "non_numerical_columns = data_cleaned.select_dtypes(exclude=['number']).columns\n",
    "data_cleaned[non_numerical_columns] = data_cleaned[non_numerical_columns].apply(lambda x: x.fillna(x.mode()[0]))\n",
    "\n"
   ]
  },
  {
   "cell_type": "code",
   "execution_count": 7,
   "metadata": {
    "id": "-9Ro4444RaZ0"
   },
   "outputs": [],
   "source": [
    "# Feature Selection\n",
    "selected_features = [\n",
    "    'Careers service rank 2022', 'International board (%) 2022',\n",
    "    'International students (%) 2022', 'Aims achieved (%) 2022',\n",
    "    'Internships (%)', 'Average course length (months)'\n",
    "]\n",
    "X = data_cleaned[selected_features]\n",
    "y = data_cleaned['Rank'] <= 10  # Target variable: True if rank is in top 10, False otherwise"
   ]
  },
  {
   "cell_type": "code",
   "execution_count": 8,
   "metadata": {
    "id": "vOdJh-FoRdlZ"
   },
   "outputs": [],
   "source": [
    "# Data Normalization\n",
    "scaler = StandardScaler()\n",
    "X_scaled = scaler.fit_transform(X)"
   ]
  },
  {
   "cell_type": "code",
   "execution_count": 9,
   "metadata": {
    "id": "0NMUDs94Rfy-"
   },
   "outputs": [],
   "source": [
    "# Splitting the data into training and test sets\n",
    "X_train, X_test, y_train, y_test = train_test_split(X_scaled, y, test_size=0.2, random_state=42)"
   ]
  },
  {
   "cell_type": "code",
   "execution_count": 10,
   "metadata": {
    "colab": {
     "base_uri": "https://localhost:8080/"
    },
    "id": "n-1TaSnlRiMf",
    "outputId": "4eea9fcf-b093-4ca0-f6fc-b9d8d494318b"
   },
   "outputs": [
    {
     "data": {
      "text/plain": [
       "<catboost.core.CatBoostClassifier at 0x7ab564e2e200>"
      ]
     },
     "execution_count": 10,
     "metadata": {},
     "output_type": "execute_result"
    }
   ],
   "source": [
    "# Model Building and Training\n",
    "catboost_model = CatBoostClassifier(verbose=0)  # 'verbose=0' to avoid too much logging\n",
    "catboost_model.fit(X_train, y_train)"
   ]
  },
  {
   "cell_type": "code",
   "execution_count": 13,
   "metadata": {
    "colab": {
     "base_uri": "https://localhost:8080/"
    },
    "id": "Ig22rl62RkFb",
    "outputId": "b04364bb-7325-4751-da1f-b514a0741e87"
   },
   "outputs": [
    {
     "name": "stdout",
     "output_type": "stream",
     "text": [
      "Accuracy: 0.92\n"
     ]
    }
   ],
   "source": [
    "# Convert the boolean target variable to an integer type\n",
    "y = y.astype(int)\n",
    "\n",
    "# Splitting the data into training and test sets\n",
    "X_train, X_test, y_train, y_test = train_test_split(X_scaled, y, test_size=0.2, random_state=42)\n",
    "\n",
    "# Model Building and Training\n",
    "catboost_model = CatBoostClassifier(verbose=0)  # 'verbose=0' to avoid too much logging\n",
    "catboost_model.fit(X_train, y_train)\n",
    "\n",
    "# Model Prediction and Evaluation\n",
    "y_pred = catboost_model.predict(X_test)\n",
    "accuracy = accuracy_score(y_test, y_pred)\n",
    "print(f'Accuracy: {accuracy}')"
   ]
  },
  {
   "cell_type": "code",
   "execution_count": 15,
   "metadata": {
    "colab": {
     "base_uri": "https://localhost:8080/"
    },
    "id": "lD_Icd0JRmb8",
    "outputId": "3098267c-37af-41ec-9035-392333a21a13"
   },
   "outputs": [
    {
     "name": "stdout",
     "output_type": "stream",
     "text": [
      "Predicted Probability of being in the top 10: 0.1632555082416065\n"
     ]
    },
    {
     "name": "stderr",
     "output_type": "stream",
     "text": [
      "/usr/local/lib/python3.10/dist-packages/sklearn/base.py:439: UserWarning: X does not have valid feature names, but StandardScaler was fitted with feature names\n",
      "  warnings.warn(\n"
     ]
    }
   ],
   "source": [
    "# Example Prediction (Replace with real values for a new prediction)\n",
    "new_data = [[15, 50, 60, 80, 90, 24]]  # Replace with real input values\n",
    "new_data_scaled = scaler.transform(new_data)\n",
    "predicted_probability = catboost_model.predict_proba(new_data_scaled)[0][1]\n",
    "print(f'Predicted Probability of being in the top 10: {predicted_probability}')"
   ]
  },
  {
   "cell_type": "code",
   "execution_count": 16,
   "metadata": {
    "colab": {
     "base_uri": "https://localhost:8080/"
    },
    "id": "PRzhPKy6TnFl",
    "outputId": "56db2270-7a38-41c3-c4cb-874518141f19"
   },
   "outputs": [
    {
     "name": "stdout",
     "output_type": "stream",
     "text": [
      "Please enter the values for the following features:\n",
      "Careers service rank 2022: 56\n",
      "International board (%) 2022: 80\n",
      "International students (%) 2022: 30\n",
      "Aims achieved (%) 2022: 65\n",
      "Internships (%): 70\n",
      "Average course length (months): 16\n",
      "Predicted Probability of being in the top 10: 0.028189012810127506\n"
     ]
    },
    {
     "name": "stderr",
     "output_type": "stream",
     "text": [
      "/usr/local/lib/python3.10/dist-packages/sklearn/base.py:439: UserWarning: X does not have valid feature names, but StandardScaler was fitted with feature names\n",
      "  warnings.warn(\n"
     ]
    }
   ],
   "source": [
    "# Model Building and Training (from previous steps)\n",
    "catboost_model = CatBoostClassifier(verbose=0)  # 'verbose=0' to avoid too much logging\n",
    "catboost_model.fit(X_train, y_train)\n",
    "\n",
    "# Function to take user input for features\n",
    "def get_user_input():\n",
    "    print(\"Please enter the values for the following features:\")\n",
    "    careers_service_rank = float(input(\"Careers service rank 2022: \"))\n",
    "    international_board = float(input(\"International board (%) 2022: \"))\n",
    "    international_students = float(input(\"International students (%) 2022: \"))\n",
    "    aims_achieved = float(input(\"Aims achieved (%) 2022: \"))\n",
    "    internships = float(input(\"Internships (%): \"))\n",
    "    course_length = float(input(\"Average course length (months): \"))\n",
    "    return [careers_service_rank, international_board, international_students, aims_achieved, internships, course_length]\n",
    "\n",
    "# Getting user input\n",
    "new_data = get_user_input()\n",
    "\n",
    "# Normalizing and reshaping the input for prediction\n",
    "new_data_scaled = scaler.transform([new_data])  # Note the input is wrapped in a list\n",
    "\n",
    "# Predicting with the model\n",
    "predicted_probability = catboost_model.predict_proba(new_data_scaled)[0][1]\n",
    "print(f'Predicted Probability of being in the top 10: {predicted_probability}')"
   ]
  }
 ],
 "metadata": {
  "colab": {
   "provenance": []
  },
  "kernelspec": {
   "display_name": "Python 3 (ipykernel)",
   "language": "python",
   "name": "python3"
  },
  "language_info": {
   "codemirror_mode": {
    "name": "ipython",
    "version": 3
   },
   "file_extension": ".py",
   "mimetype": "text/x-python",
   "name": "python",
   "nbconvert_exporter": "python",
   "pygments_lexer": "ipython3",
   "version": "3.11.4"
  }
 },
 "nbformat": 4,
 "nbformat_minor": 1
}
