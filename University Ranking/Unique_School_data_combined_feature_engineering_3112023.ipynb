{
 "cells": [
  {
   "cell_type": "code",
   "execution_count": 1,
   "id": "78173914",
   "metadata": {},
   "outputs": [],
   "source": [
    "import pandas as pd"
   ]
  },
  {
   "cell_type": "code",
   "execution_count": 2,
   "id": "c392bcef",
   "metadata": {},
   "outputs": [],
   "source": [
    "df = pd.read_excel(\"C:/Users/gupta/Python jypter notebook/Data/Unique_Schools_Data_Combined_3112023.xlsx\")"
   ]
  },
  {
   "cell_type": "code",
   "execution_count": 3,
   "id": "bb397ba7",
   "metadata": {},
   "outputs": [
    {
     "name": "stdout",
     "output_type": "stream",
     "text": [
      "<class 'pandas.core.frame.DataFrame'>\n",
      "RangeIndex: 125 entries, 0 to 124\n",
      "Columns: 128 entries, School Name to 2022.Aims achieved (%)\n",
      "dtypes: float64(111), object(17)\n",
      "memory usage: 125.1+ KB\n"
     ]
    }
   ],
   "source": [
    "df.info()"
   ]
  },
  {
   "cell_type": "code",
   "execution_count": 4,
   "id": "a5421427",
   "metadata": {},
   "outputs": [
    {
     "data": {
      "text/plain": [
       "(125, 128)"
      ]
     },
     "execution_count": 4,
     "metadata": {},
     "output_type": "execute_result"
    }
   ],
   "source": [
    "df.shape"
   ]
  },
  {
   "cell_type": "markdown",
   "id": "07c72118",
   "metadata": {},
   "source": [
    "125 row and 128 columns"
   ]
  },
  {
   "cell_type": "code",
   "execution_count": 5,
   "id": "370b6bb4",
   "metadata": {},
   "outputs": [
    {
     "data": {
      "text/plain": [
       "School Name                            0\n",
       "LinkedIn Followers                     2\n",
       "LinkedIn Average Post Time           125\n",
       "Instagram engagement %                15\n",
       "Google Rating                         12\n",
       "                                    ... \n",
       "2022.Value for money rank             25\n",
       "2022.Employed at three months (%)     25\n",
       "2022.International faculty (%)        25\n",
       "2022.International students (%)       25\n",
       "2022.Aims achieved (%)                25\n",
       "Length: 128, dtype: int64"
      ]
     },
     "execution_count": 5,
     "metadata": {},
     "output_type": "execute_result"
    }
   ],
   "source": [
    "df.isna().sum()"
   ]
  },
  {
   "cell_type": "markdown",
   "id": "fbe7b20e",
   "metadata": {},
   "source": [
    "Since we do not have linkedin average post time I am dropping the column"
   ]
  },
  {
   "cell_type": "code",
   "execution_count": 6,
   "id": "8b7133cb",
   "metadata": {},
   "outputs": [],
   "source": [
    "df.drop(\"LinkedIn Average Post Time\", inplace=True, axis=1)"
   ]
  },
  {
   "cell_type": "code",
   "execution_count": 7,
   "id": "81165872",
   "metadata": {},
   "outputs": [
    {
     "name": "stdout",
     "output_type": "stream",
     "text": [
      "Column(s) with the maximum number of null values: ['2020.Member of Cems']\n",
      "Maximum number of null values: 107\n"
     ]
    }
   ],
   "source": [
    "null_counts = df.isnull().sum()\n",
    "max_null_column = null_counts.idxmax()\n",
    "max_null_count = null_counts.max()\n",
    "max_null_columns = null_counts[null_counts == max_null_count].index.tolist()\n",
    "print(f\"Column(s) with the maximum number of null values: {max_null_columns}\")\n",
    "print(f\"Maximum number of null values: {max_null_count}\")"
   ]
  },
  {
   "cell_type": "code",
   "execution_count": 8,
   "id": "bc3f91aa",
   "metadata": {},
   "outputs": [
    {
     "data": {
      "text/plain": [
       "2020.Member of Cems                          107\n",
       "2020.Three-year average                       51\n",
       "2022.Threeyear average                        50\n",
       "2022.Rank in 2020                             48\n",
       "2020.Rank in 2018                             48\n",
       "Students per Staff                            47\n",
       "2020.Rank in 2019                             46\n",
       "2018.3-year average                           43\n",
       "2019.Three-year average                       41\n",
       "2019.Rank in 2017                             40\n",
       "Research Quality                              38\n",
       "2022.Rank in 2021                             38\n",
       "2020.Company internships (%)                  35\n",
       "2020.Career progress rank                     35\n",
       "2020.International course experience rank     35\n",
       "2020.Female faculty (%)                       35\n",
       "2020.#                                        35\n",
       "2020.Salary today (US$)                       35\n",
       "2020.Value for money rank                     35\n",
       "2020.Aims achieved (%)                        35\n",
       "2020.Salary percentage increase               35\n",
       "2020.Female students (%)                      35\n",
       "2020.International students (%)               35\n",
       "2020.Number enrolled 2019/20                  35\n",
       "2020.Careers service rank                     35\n",
       "2020.Women on board (%)                       35\n",
       "2020.Employed at three months (%)             35\n",
       "2020.Faculty with doctorates (%)              35\n",
       "2020.Weighted salary (US$)                    35\n",
       "2020.International faculty (%)                35\n",
       "2020.International work mobility rank         35\n",
       "2020.International board (%)                  35\n",
       "2020.Extra languages                          35\n",
       "2020.Overall satisfaction                     35\n",
       "2020.Average course length (months)           35\n",
       "2019.Rank in 2018                             33\n",
       "2021.International students (%)               25\n",
       "2022.Women on board (%)                       25\n",
       "2022.International board (%)                  25\n",
       "2022.International course experience rank     25\n",
       "2022.Internships (%)                          25\n",
       "2022.Faculty with doctorates (%)              25\n",
       "2022.International work mobility rank         25\n",
       "2022.Average course length (months)           25\n",
       "2022.Overall satisfaction                     25\n",
       "2022.Female students (%)                      25\n",
       "2021.Female students (%)                      25\n",
       "2022.Female faculty (%)                       25\n",
       "2022.Career progress rank                     25\n",
       "2022.Salary percentage increase               25\n",
       "2022.Weighted salary (US$)                    25\n",
       "2022.Value for money rank                     25\n",
       "2022.Employed at three months (%)             25\n",
       "2022.International faculty (%)                25\n",
       "2022.International students (%)               25\n",
       "2022.Careers service rank                     25\n",
       "2021.Extra languages                          25\n",
       "2021.Weighted salary (US$)                    25\n",
       "2021.Salary today (US$) *                     25\n",
       "2021.Career progress rank                     25\n",
       "2021.Salary percentage increase               25\n",
       "2021.Aims achieved (%)                        25\n",
       "2021.Average course length (months)           25\n",
       "2021.Rank in 2019                             25\n",
       "2021.Overall satisfaction                     25\n",
       "2021.Faculty with doctorates (%)              25\n",
       "2021.Three-year average                       25\n",
       "2021.International board (%)                  25\n",
       "2021.International work mobility rank         25\n",
       "2021.International faculty (%)                25\n",
       "2021.Female faculty (%)                       25\n",
       "2021.Employed at three months (%)             25\n",
       "2021.Women on board (%)                       25\n",
       "2021.Careers service rank                     25\n",
       "2021.International course experience rank     25\n",
       "2021.Value for money rank                     25\n",
       "2021.Company internships (%)                  25\n",
       "2022.Aims achieved (%)                        25\n",
       "2018.Relevant degree                          25\n",
       "2018.Country                                  25\n",
       "2018.Faculty with doctorates (%)              25\n",
       "2018.International students (%)               25\n",
       "2018.Salary percentage increase               25\n",
       "2018.International mobility rank              25\n",
       "2018.International board (%)                  25\n",
       "2018.Career progress rank                     25\n",
       "2018.Number enrolled 2017/18                  25\n",
       "2018.International faculty (%)                25\n",
       "2018.Company internships (%)                  25\n",
       "2019.International students (%)               25\n",
       "2018.Female faculty (%)                       25\n",
       "2018.Maximum course fee (local currency)      25\n",
       "2018.Course length (months)                   25\n",
       "2018.Women on board (%)                       25\n",
       "2018.Female students (%)                      25\n",
       "2018.Salary today (US$)                       25\n",
       "2018.Languages                                25\n",
       "2018.#                                        25\n",
       "2019.Relevant degree*‡                        25\n",
       "2019.#                                        25\n",
       "2019.Company internships (%)*                 25\n",
       "2019.International work mobility rank         25\n",
       "2019.Female faculty (%)                       25\n",
       "2019.Languages                                25\n",
       "2019.Country                                  25\n",
       "2019.Women on board (%)                       25\n",
       "2019.Faculty with doctorates (%)              25\n",
       "2019.Female students (%)                      25\n",
       "2019.International board (%)                  25\n",
       "2019.Maximum course fee (local currency)*     25\n",
       "2019.Salary percentage increase               25\n",
       "2019.Salary today (US$)                       25\n",
       "2019.Careers service rank                     25\n",
       "2019.Value for money rank                     25\n",
       "2019.Career progress rank                     25\n",
       "2019.Employed at three months (%)             25\n",
       "2019.International faculty (%)                25\n",
       "2019.Weighted salary (US$)                    25\n",
       "2019.Number enrolled 2018/19*                 25\n",
       "2019.International course experience rank     25\n",
       "Citations per Faculty                         23\n",
       "Google Number of Reviews                      18\n",
       "Instagram engagement %                        15\n",
       "Average Experience of Faculty                 15\n",
       "Google Rating                                 12\n",
       "LinkedIn Followers                             2\n",
       "School Name                                    0\n",
       "dtype: int64"
      ]
     },
     "execution_count": 8,
     "metadata": {},
     "output_type": "execute_result"
    }
   ],
   "source": [
    "pd.set_option('display.max_rows', None)\n",
    "df.isnull().sum().sort_values(ascending=False)"
   ]
  },
  {
   "cell_type": "markdown",
   "id": "8ba57418",
   "metadata": {},
   "source": [
    "now adding more features to this after dropping column \"2020.Member of Cems\""
   ]
  },
  {
   "cell_type": "code",
   "execution_count": 9,
   "id": "21a4c8f5",
   "metadata": {},
   "outputs": [],
   "source": [
    "df.drop(\"2020.Member of Cems\", inplace=True, axis=1)"
   ]
  },
  {
   "cell_type": "markdown",
   "id": "38423903",
   "metadata": {},
   "source": [
    "Yearly Rank Change"
   ]
  },
  {
   "cell_type": "code",
   "execution_count": 10,
   "id": "7da57b72",
   "metadata": {},
   "outputs": [],
   "source": [
    "years = [2022, 2021, 2020]\n",
    "for year in years:\n",
    "    prev_year = year - 1\n",
    "    df[f'Career progress rank {year}-{prev_year}'] = df[f'{year}.Career progress rank'] - df[f'{prev_year}.Careers service rank']"
   ]
  },
  {
   "cell_type": "code",
   "execution_count": 11,
   "id": "2005adaa",
   "metadata": {},
   "outputs": [],
   "source": [
    "years = [2022, 2021, 2020]\n",
    "for year in years:\n",
    "    prev_year = year - 1\n",
    "    df[f'International course experience rank {year}-{prev_year}'] = df[f'{year}.International course experience rank'] - df[f'{prev_year}.International course experience rank']"
   ]
  },
  {
   "cell_type": "code",
   "execution_count": 12,
   "id": "009764d3",
   "metadata": {},
   "outputs": [],
   "source": [
    "years = [2022, 2021, 2020]\n",
    "for year in years:\n",
    "    prev_year = year - 1\n",
    "    df[f'International work mobility rank {year}-{prev_year}'] = df[f'{year}.International work mobility rank'] - df[f'{prev_year}.International work mobility rank']"
   ]
  },
  {
   "cell_type": "code",
   "execution_count": 13,
   "id": "46d45ec1",
   "metadata": {},
   "outputs": [],
   "source": [
    "years = [2022, 2021, 2020]\n",
    "for year in years:\n",
    "    prev_year = year - 1\n",
    "    df[f'Value for money rank {year}-{prev_year}'] = df[f'{year}.Value for money rank'] - df[f'{prev_year}.Value for money rank']"
   ]
  },
  {
   "cell_type": "markdown",
   "id": "291f13cd",
   "metadata": {},
   "source": [
    "Ranking Stability (Coefficient of Variation)"
   ]
  },
  {
   "cell_type": "code",
   "execution_count": 14,
   "id": "22a1cae6",
   "metadata": {},
   "outputs": [],
   "source": [
    "rank_columns = [f'{year}.Careers service rank' for year in years]\n",
    "df['Careers service Rank Stability'] = df[rank_columns].std(axis=1) / df[rank_columns].mean(axis=1)\n",
    "rank_columns = [f'{year}.International course experience rank' for year in years]\n",
    "df['International course experience Rank Stability'] = df[rank_columns].std(axis=1) / df[rank_columns].mean(axis=1)\n",
    "rank_columns = [f'{year}.International work mobility rank' for year in years]\n",
    "df['International work mobility Rank Stability'] = df[rank_columns].std(axis=1) / df[rank_columns].mean(axis=1)\n",
    "rank_columns = [f'{year}.Career progress rank' for year in years]\n",
    "df['Career progress Rank Stability'] = df[rank_columns].std(axis=1) / df[rank_columns].mean(axis=1)\n",
    "rank_columns = [f'{year}.Value for money rank' for year in years]\n",
    "df['Value for money Rank Stability'] = df[rank_columns].std(axis=1) / df[rank_columns].mean(axis=1)"
   ]
  },
  {
   "cell_type": "markdown",
   "id": "cfc15f64",
   "metadata": {},
   "source": [
    "#Experience Change"
   ]
  },
  {
   "cell_type": "code",
   "execution_count": 16,
   "id": "119bc1c5",
   "metadata": {},
   "outputs": [],
   "source": [
    "faculty_columns = [f'{year}.Faculty with doctorates (%)' for year in years]\n",
    "df['Faculty Change'] = df[faculty_columns].diff(axis=1).mean(axis=1)\n",
    "women_on_board_columns = [f'{year}.Women on board (%)' for year in years]\n",
    "df['Women on board Change'] = df[women_on_board_columns].diff(axis=1).mean(axis=1)\n",
    "female_student_columns = [f'{year}.Female students (%)' for year in years]\n",
    "df['Female Student Change'] = df[female_student_columns].diff(axis=1).mean(axis=1)\n",
    "International_faculty_columns = [f'{year}.International faculty (%)' for year in years]\n",
    "df['International faculty Change'] = df[International_faculty_columns].diff(axis=1).mean(axis=1)\n",
    "International_students_columns = [f'{year}.International students (%)' for year in years]\n",
    "df['International students Change'] = df[International_students_columns].diff(axis=1).mean(axis=1)"
   ]
  },
  {
   "cell_type": "code",
   "execution_count": 17,
   "id": "83705cba",
   "metadata": {},
   "outputs": [],
   "source": [
    "# Satisfaction Trends\n",
    "satisfaction_columns = [f'{year}.Overall satisfaction' for year in years]\n",
    "df['Satisfaction Change'] = df[satisfaction_columns].diff(axis=1).mean(axis=1)"
   ]
  },
  {
   "cell_type": "code",
   "execution_count": 18,
   "id": "98f2de34",
   "metadata": {},
   "outputs": [],
   "source": [
    "# Value for Money Index\n",
    "df['Value for Money Index'] = df['2022.Value for money rank'] / df['2022.Weighted salary (US$)']"
   ]
  },
  {
   "cell_type": "code",
   "execution_count": 20,
   "id": "1ba6656b",
   "metadata": {},
   "outputs": [],
   "source": [
    "df.to_excel('output_dataset_1.xlsx', index=False)"
   ]
  },
  {
   "cell_type": "code",
   "execution_count": null,
   "id": "165ffd26",
   "metadata": {},
   "outputs": [],
   "source": []
  },
  {
   "cell_type": "code",
   "execution_count": null,
   "id": "5f2ba1a7",
   "metadata": {},
   "outputs": [],
   "source": []
  },
  {
   "cell_type": "code",
   "execution_count": null,
   "id": "88d5020c",
   "metadata": {},
   "outputs": [],
   "source": []
  },
  {
   "cell_type": "code",
   "execution_count": null,
   "id": "84b5bd56",
   "metadata": {},
   "outputs": [],
   "source": []
  },
  {
   "cell_type": "code",
   "execution_count": null,
   "id": "5011b414",
   "metadata": {},
   "outputs": [],
   "source": []
  },
  {
   "cell_type": "code",
   "execution_count": null,
   "id": "a51478dc",
   "metadata": {},
   "outputs": [],
   "source": []
  },
  {
   "cell_type": "code",
   "execution_count": null,
   "id": "da13b459",
   "metadata": {},
   "outputs": [],
   "source": []
  },
  {
   "cell_type": "code",
   "execution_count": null,
   "id": "dc6da170",
   "metadata": {},
   "outputs": [],
   "source": []
  },
  {
   "cell_type": "code",
   "execution_count": null,
   "id": "48bbb91c",
   "metadata": {},
   "outputs": [],
   "source": []
  },
  {
   "cell_type": "code",
   "execution_count": null,
   "id": "98746669",
   "metadata": {},
   "outputs": [],
   "source": []
  },
  {
   "cell_type": "code",
   "execution_count": null,
   "id": "1f78011e",
   "metadata": {},
   "outputs": [],
   "source": []
  },
  {
   "cell_type": "code",
   "execution_count": null,
   "id": "5af1ec50",
   "metadata": {},
   "outputs": [],
   "source": []
  },
  {
   "cell_type": "code",
   "execution_count": null,
   "id": "6f2eb5f4",
   "metadata": {},
   "outputs": [],
   "source": []
  },
  {
   "cell_type": "code",
   "execution_count": null,
   "id": "171226d0",
   "metadata": {},
   "outputs": [],
   "source": []
  }
 ],
 "metadata": {
  "kernelspec": {
   "display_name": "Python 3 (ipykernel)",
   "language": "python",
   "name": "python3"
  },
  "language_info": {
   "codemirror_mode": {
    "name": "ipython",
    "version": 3
   },
   "file_extension": ".py",
   "mimetype": "text/x-python",
   "name": "python",
   "nbconvert_exporter": "python",
   "pygments_lexer": "ipython3",
   "version": "3.11.4"
  }
 },
 "nbformat": 4,
 "nbformat_minor": 5
}
