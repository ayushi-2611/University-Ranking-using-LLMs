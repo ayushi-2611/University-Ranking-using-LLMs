{
 "cells": [
  {
   "cell_type": "code",
   "execution_count": 1,
   "id": "729c73ed",
   "metadata": {},
   "outputs": [],
   "source": [
    "import pandas as pd\n",
    "df = pd.read_excel(\"C:/Users/gupta/Python jypter notebook/Data/excel1.xlsx\")"
   ]
  },
  {
   "cell_type": "code",
   "execution_count": 2,
   "id": "a32ec898",
   "metadata": {},
   "outputs": [],
   "source": [
    "df.drop(\"Career progress rank 2018\", inplace=True, axis=1)\n",
    "df.drop(\"Female students (%) 2019\", inplace=True, axis=1)\n",
    "df.drop(\"International course experience rank 2021\", inplace=True, axis=1)"
   ]
  },
  {
   "cell_type": "code",
   "execution_count": 3,
   "id": "f8ddbc71",
   "metadata": {},
   "outputs": [],
   "source": [
    "df['Threeyear average 2021'].fillna(0, inplace=True)\n",
    "df['Threeyear average 2021'].replace('-', 0, inplace=True)\n",
    "df['Threeyear average 2021'] = df['Threeyear average 2021'].astype(int)"
   ]
  },
  {
   "cell_type": "code",
   "execution_count": 4,
   "id": "8aa54c40",
   "metadata": {},
   "outputs": [
    {
     "data": {
      "text/plain": [
       "Index(['Rank', 'School Name', 'Careers service rank 2022',\n",
       "       'Careers service rank 2021', 'Careers service rank 2020',\n",
       "       'Careers service rank 2019', 'International board (%) 2022',\n",
       "       'International board (%) 2021', 'International board (%) 2020',\n",
       "       'International board (%) 2019', 'International board (%) 2018',\n",
       "       'International course experience rank 2022',\n",
       "       'International course experience rank 2020',\n",
       "       'International course experience rank 2019', 'Threeyear average 2022',\n",
       "       'Threeyear average 2021', 'Threeyear average 2020',\n",
       "       'Threeyear average 2019', 'Threeyear average 2018',\n",
       "       'Faculty with doctorates (%) 2022', 'Faculty with doctorates (%) 2021',\n",
       "       'Faculty with doctorates (%) 2020', 'Faculty with doctorates (%) 2019',\n",
       "       'Faculty with doctorates (%) 2018',\n",
       "       'International work mobility rank 2022',\n",
       "       'International work mobility rank 2021',\n",
       "       'International work mobility rank 2020',\n",
       "       'International work mobility rank 2019',\n",
       "       'International work mobility rank 2018', 'Rank in 2022', 'Rank in 2021',\n",
       "       'Rank in 2020', 'Rank in 2019', 'Rank in 2018',\n",
       "       'Overall satisfaction 2022', 'Overall satisfaction 2021',\n",
       "       'Overall satisfaction 2020', 'Women on board (%) 2022',\n",
       "       'Women on board (%) 2021', 'Women on board (%) 2020',\n",
       "       'Women on board (%) 2019', 'Women on board (%) 2018',\n",
       "       'Female students (%) 2022', 'Female students (%) 2021',\n",
       "       'Female students (%) 2020', 'Female students (%) 2018',\n",
       "       'Female faculty (%) 2022', 'Female faculty (%) 2021',\n",
       "       'Female faculty (%) 2020', 'Female faculty (%) 2019',\n",
       "       'Female faculty (%) 2018', 'Career progress rank 2022',\n",
       "       'Career progress rank 2021', 'Career progress rank 2020',\n",
       "       'Career progress rank 2019', 'Salary percentage increase 2022',\n",
       "       'Salary percentage increase 2021', 'Salary percentage increase 2020',\n",
       "       'Salary percentage increase 2019', 'Salary percentage increase 2018',\n",
       "       'Weighted salary (US$) 2022', 'Weighted salary (US$) 2021',\n",
       "       'Weighted salary (US$) 2020', 'Weighted salary (US$) 2019',\n",
       "       'Value for money rank 2022', 'Value for money rank 2021',\n",
       "       'Value for money rank 2020', 'Value for money rank 2019',\n",
       "       'International faculty (%) 2022', 'International faculty (%) 2021',\n",
       "       'International faculty (%) 2020', 'International faculty (%) 2019',\n",
       "       'International faculty (%) 2018', 'International students (%) 2022',\n",
       "       'International students (%) 2021', 'International students (%) 2020',\n",
       "       'International students (%) 2019', 'International students (%) 2018',\n",
       "       'Aims achieved (%) 2022', 'Aims achieved (%) 2021',\n",
       "       'Aims achieved (%) 2020', 'Programme name', 'Internships (%)',\n",
       "       'Average course length (months)'],\n",
       "      dtype='object')"
      ]
     },
     "execution_count": 4,
     "metadata": {},
     "output_type": "execute_result"
    }
   ],
   "source": [
    "df.columns"
   ]
  },
  {
   "cell_type": "code",
   "execution_count": 5,
   "id": "a4128553",
   "metadata": {},
   "outputs": [],
   "source": [
    "df.drop(\"Rank\", inplace=True, axis=1)\n",
    "df.drop(\"Rank in 2021\", inplace=True, axis=1)\n",
    "df.drop(\"Rank in 2020\", inplace=True, axis=1)\n",
    "df.drop(\"Rank in 2019\", inplace=True, axis=1)\n",
    "df.drop(\"Rank in 2018\", inplace=True, axis=1)"
   ]
  },
  {
   "cell_type": "code",
   "execution_count": 6,
   "id": "7fd0fa17",
   "metadata": {},
   "outputs": [],
   "source": [
    "df[\"rank_coded\"] = df[\"Rank in 2022\"].apply(lambda val: 1 if val <= 50 else 0)"
   ]
  },
  {
   "cell_type": "code",
   "execution_count": 8,
   "id": "1bc03e53",
   "metadata": {},
   "outputs": [
    {
     "data": {
      "text/plain": [
       "Index(['School Name', 'Careers service rank 2022', 'Careers service rank 2021',\n",
       "       'Careers service rank 2020', 'Careers service rank 2019',\n",
       "       'International board (%) 2022', 'International board (%) 2021',\n",
       "       'International board (%) 2020', 'International board (%) 2019',\n",
       "       'International board (%) 2018',\n",
       "       'International course experience rank 2022',\n",
       "       'International course experience rank 2020',\n",
       "       'International course experience rank 2019', 'Threeyear average 2022',\n",
       "       'Threeyear average 2021', 'Threeyear average 2020',\n",
       "       'Threeyear average 2019', 'Threeyear average 2018',\n",
       "       'Faculty with doctorates (%) 2022', 'Faculty with doctorates (%) 2021',\n",
       "       'Faculty with doctorates (%) 2020', 'Faculty with doctorates (%) 2019',\n",
       "       'Faculty with doctorates (%) 2018',\n",
       "       'International work mobility rank 2022',\n",
       "       'International work mobility rank 2021',\n",
       "       'International work mobility rank 2020',\n",
       "       'International work mobility rank 2019',\n",
       "       'International work mobility rank 2018', 'Rank in 2022',\n",
       "       'Overall satisfaction 2022', 'Overall satisfaction 2021',\n",
       "       'Overall satisfaction 2020', 'Women on board (%) 2022',\n",
       "       'Women on board (%) 2021', 'Women on board (%) 2020',\n",
       "       'Women on board (%) 2019', 'Women on board (%) 2018',\n",
       "       'Female students (%) 2022', 'Female students (%) 2021',\n",
       "       'Female students (%) 2020', 'Female students (%) 2018',\n",
       "       'Female faculty (%) 2022', 'Female faculty (%) 2021',\n",
       "       'Female faculty (%) 2020', 'Female faculty (%) 2019',\n",
       "       'Female faculty (%) 2018', 'Career progress rank 2022',\n",
       "       'Career progress rank 2021', 'Career progress rank 2020',\n",
       "       'Career progress rank 2019', 'Salary percentage increase 2022',\n",
       "       'Salary percentage increase 2021', 'Salary percentage increase 2020',\n",
       "       'Salary percentage increase 2019', 'Salary percentage increase 2018',\n",
       "       'Weighted salary (US$) 2022', 'Weighted salary (US$) 2021',\n",
       "       'Weighted salary (US$) 2020', 'Weighted salary (US$) 2019',\n",
       "       'Value for money rank 2022', 'Value for money rank 2021',\n",
       "       'Value for money rank 2020', 'Value for money rank 2019',\n",
       "       'International faculty (%) 2022', 'International faculty (%) 2021',\n",
       "       'International faculty (%) 2020', 'International faculty (%) 2019',\n",
       "       'International faculty (%) 2018', 'International students (%) 2022',\n",
       "       'International students (%) 2021', 'International students (%) 2020',\n",
       "       'International students (%) 2019', 'International students (%) 2018',\n",
       "       'Aims achieved (%) 2022', 'Aims achieved (%) 2021',\n",
       "       'Aims achieved (%) 2020', 'Programme name', 'Internships (%)',\n",
       "       'Average course length (months)', 'rank_coded'],\n",
       "      dtype='object')"
      ]
     },
     "execution_count": 8,
     "metadata": {},
     "output_type": "execute_result"
    }
   ],
   "source": [
    "df.columns"
   ]
  },
  {
   "cell_type": "code",
   "execution_count": 10,
   "id": "8e6447d9",
   "metadata": {},
   "outputs": [],
   "source": [
    "X = df.drop(['School Name','Programme name','rank_coded'], axis=1).values\n",
    "y= df[\"rank_coded\"].values"
   ]
  },
  {
   "cell_type": "code",
   "execution_count": 11,
   "id": "ac0fc8ed",
   "metadata": {},
   "outputs": [],
   "source": [
    "from sklearn.ensemble import AdaBoostClassifier\n",
    "from sklearn.tree import DecisionTreeClassifier\n",
    "from sklearn.metrics import roc_auc_score\n",
    "from sklearn.model_selection import train_test_split\n",
    "# Set seed for reproducibility\n",
    "SEED = 1\n",
    "# Split data into 80% train and 20% test\n",
    "X_train, X_test, y_train, y_test = train_test_split(X, y, test_size=0.2, stratify=y, random_state=SEED)"
   ]
  },
  {
   "cell_type": "code",
   "execution_count": 23,
   "id": "2df5378d",
   "metadata": {},
   "outputs": [],
   "source": [
    "from sklearn.metrics import accuracy_score"
   ]
  },
  {
   "cell_type": "code",
   "execution_count": 12,
   "id": "f42078c4",
   "metadata": {},
   "outputs": [],
   "source": [
    "from sklearn.impute import SimpleImputer\n",
    "import numpy as np\n",
    "imp_num = SimpleImputer(strategy='mean')\n",
    "X_train = imp_num.fit_transform(X_train)\n",
    "X_test = imp_num.transform(X_test)"
   ]
  },
  {
   "cell_type": "markdown",
   "id": "1a04a398",
   "metadata": {},
   "source": [
    "# adaboost"
   ]
  },
  {
   "cell_type": "code",
   "execution_count": 14,
   "id": "c39847e6",
   "metadata": {},
   "outputs": [],
   "source": [
    "dt = DecisionTreeClassifier(max_depth=1, random_state=SEED)\n",
    "adb_clf = AdaBoostClassifier(estimator=dt, n_estimators=100)\n",
    "adb_clf.fit(X_train, y_train)\n",
    "y_pred_proba = adb_clf.predict_proba(X_test)[:,1]\n",
    "adb_clf_roc_auc_score = roc_auc_score(y_test, y_pred_proba)"
   ]
  },
  {
   "cell_type": "code",
   "execution_count": 25,
   "id": "8d27ec11",
   "metadata": {},
   "outputs": [
    {
     "name": "stdout",
     "output_type": "stream",
     "text": [
      "ROC AUC score: 1.00\n",
      "accuracy score: 1.00\n"
     ]
    }
   ],
   "source": [
    "print('ROC AUC score: {:.2f}'.format(adb_clf_roc_auc_score))\n",
    "print('accuracy score: {:.2f}'.format(accuracy_score(y_test, y_pred)))"
   ]
  },
  {
   "cell_type": "markdown",
   "id": "71bbf234",
   "metadata": {},
   "source": [
    "# GradientBoosting"
   ]
  },
  {
   "cell_type": "code",
   "execution_count": 35,
   "id": "5ea572e8",
   "metadata": {},
   "outputs": [
    {
     "name": "stdout",
     "output_type": "stream",
     "text": [
      "ROC AUC score: 1.00\n",
      "accuracy score: 1.00\n"
     ]
    }
   ],
   "source": [
    "from sklearn.ensemble import GradientBoostingClassifier\n",
    "gbt = GradientBoostingClassifier(loss='log_loss',  \n",
    "    learning_rate=0.1,  \n",
    "    n_estimators=100,  \n",
    "    max_depth=3,  \n",
    "    min_samples_split=2, \n",
    "    min_samples_leaf=1,  \n",
    "    subsample=1.0,  \n",
    "    random_state=42)\n",
    "gbt.fit(X_train, y_train)\n",
    "y_pred = gbt.predict(X_test)\n",
    "gb_roc_auc_score = roc_auc_score(y_test, y_pred)\n",
    "print('ROC AUC score: {:.2f}'.format(gb_roc_auc_score))\n",
    "print('accuracy score: {:.2f}'.format(accuracy_score(y_test, y_pred)))"
   ]
  },
  {
   "cell_type": "code",
   "execution_count": 36,
   "id": "8378a02d",
   "metadata": {},
   "outputs": [
    {
     "name": "stdout",
     "output_type": "stream",
     "text": [
      "ROC AUC score: 1.00\n",
      "accuracy score: 1.00\n"
     ]
    }
   ],
   "source": [
    "from catboost import CatBoostClassifier\n",
    "catboost_model = CatBoostClassifier(verbose=0)  # 'verbose=0' to avoid too much logging\n",
    "catboost_model.fit(X_train, y_train)\n",
    "y_pred = catboost_model.predict(X_test)\n",
    "cat_roc_auc_score = roc_auc_score(y_test, y_pred)\n",
    "print('ROC AUC score: {:.2f}'.format(cat_roc_auc_score))\n",
    "print('accuracy score: {:.2f}'.format(accuracy_score(y_test, y_pred)))"
   ]
  },
  {
   "cell_type": "markdown",
   "id": "634908eb",
   "metadata": {},
   "source": [
    "# RandomForestClassifier"
   ]
  },
  {
   "cell_type": "code",
   "execution_count": 27,
   "id": "aa3b5627",
   "metadata": {},
   "outputs": [
    {
     "name": "stdout",
     "output_type": "stream",
     "text": [
      "ROC AUC score: 1.00\n",
      "accuracy score: 0.96\n"
     ]
    }
   ],
   "source": [
    "from sklearn.ensemble import RandomForestClassifier\n",
    "rf = RandomForestClassifier(n_estimators=400, min_samples_leaf=0.12, random_state=SEED)\n",
    "rf.fit(X_train, y_train)\n",
    "y_pred = rf.predict(X_test)\n",
    "rf_roc_auc_score = roc_auc_score(y_test, y_pred_proba)\n",
    "print('ROC AUC score: {:.2f}'.format(rf_roc_auc_score))\n",
    "print('accuracy score: {:.2f}'.format(accuracy_score(y_test, y_pred)))"
   ]
  },
  {
   "cell_type": "code",
   "execution_count": 33,
   "id": "e57b5fb1",
   "metadata": {},
   "outputs": [
    {
     "data": {
      "image/png": "[encoded data removed]",
      "text/plain": [
       "<Figure size 640x480 with 1 Axes>"
      ]
     },
     "metadata": {},
     "output_type": "display_data"
    }
   ],
   "source": [
    "import pandas as pd\n",
    "import matplotlib.pyplot as plt\n",
    "importances_rf = pd.Series(rf.feature_importances_, index = pd.DataFrame(X).columns)\n",
    "sorted_importances_rf = importances_rf.sort_values()\n",
    "sorted_importances_rf.plot(kind='barh', color='lightgreen'); plt.show()"
   ]
  },
  {
   "cell_type": "code",
   "execution_count": 34,
   "id": "fd893390",
   "metadata": {},
   "outputs": [
    {
     "data": {
      "image/png": "[encoded data removed]",
      "text/plain": [
       "<Figure size 800x600 with 1 Axes>"
      ]
     },
     "metadata": {},
     "output_type": "display_data"
    }
   ],
   "source": [
    "model_names = ['Adaboosting', 'GradientBoosting', 'Catboosting']  # Replace with your model names\n",
    "roc_auc_scores = [adb_clf_roc_auc_score, gb_roc_auc_score, cat_roc_auc_score]\n",
    "# Plotting ROC AUC scores for three models\n",
    "plt.figure(figsize=(8, 6))\n",
    "plt.bar(model_names, roc_auc_scores, color='skyblue')\n",
    "plt.xlabel('Models')\n",
    "plt.ylabel('ROC AUC Score')\n",
    "plt.title('Comparison of ROC AUC Scores for Different Models')\n",
    "plt.ylim(0.8, 1.0)  # Adjust the y-axis limits if needed\n",
    "plt.grid(axis='y')  # Add gridlines for better readability\n",
    "plt.show()"
   ]
  },
  {
   "cell_type": "markdown",
   "id": "e305298f",
   "metadata": {},
   "source": [
    "Data and Model Issues: An ROC AUC score of 1 might indicate overfitting, especially if the model is evaluated on the same data it was trained on. This could mean the model has learned the training data too well and may not generalize well to new, unseen data.\n",
    "\n",
    "Imbalanced Data: In cases of imbalanced datasets (where one class significantly outweighs the other), achieving a perfect score might be easier, but it's crucial to ensure that the model is not simply predicting the majority class all the time.\n",
    "\n",
    "Evaluation on Different Datasets: It's important to assess the model's performance on different datasets (such as a separate validation or test set) to ensure that the high ROC AUC score is not just a result of chance or luck in a particular dataset."
   ]
  },
  {
   "cell_type": "code",
   "execution_count": null,
   "id": "70361f08",
   "metadata": {},
   "outputs": [],
   "source": []
  },
  {
   "cell_type": "code",
   "execution_count": null,
   "id": "cada4e26",
   "metadata": {},
   "outputs": [],
   "source": []
  },
  {
   "cell_type": "code",
   "execution_count": null,
   "id": "f40e8c16",
   "metadata": {},
   "outputs": [],
   "source": []
  },
  {
   "cell_type": "code",
   "execution_count": null,
   "id": "0407ce22",
   "metadata": {},
   "outputs": [],
   "source": []
  },
  {
   "cell_type": "code",
   "execution_count": null,
   "id": "f15553b0",
   "metadata": {},
   "outputs": [],
   "source": []
  },
  {
   "cell_type": "code",
   "execution_count": null,
   "id": "8fddd762",
   "metadata": {},
   "outputs": [],
   "source": []
  },
  {
   "cell_type": "code",
   "execution_count": null,
   "id": "f9528eff",
   "metadata": {},
   "outputs": [],
   "source": []
  },
  {
   "cell_type": "code",
   "execution_count": null,
   "id": "1253fa15",
   "metadata": {},
   "outputs": [],
   "source": []
  },
  {
   "cell_type": "code",
   "execution_count": null,
   "id": "836c6e1a",
   "metadata": {},
   "outputs": [],
   "source": []
  },
  {
   "cell_type": "code",
   "execution_count": null,
   "id": "f95cf0e7",
   "metadata": {},
   "outputs": [],
   "source": []
  },
  {
   "cell_type": "code",
   "execution_count": null,
   "id": "31ccff56",
   "metadata": {},
   "outputs": [],
   "source": []
  },
  {
   "cell_type": "code",
   "execution_count": null,
   "id": "04dd5081",
   "metadata": {},
   "outputs": [],
   "source": []
  },
  {
   "cell_type": "code",
   "execution_count": null,
   "id": "13e717d5",
   "metadata": {},
   "outputs": [],
   "source": []
  },
  {
   "cell_type": "code",
   "execution_count": null,
   "id": "0095d3e6",
   "metadata": {},
   "outputs": [],
   "source": []
  },
  {
   "cell_type": "code",
   "execution_count": null,
   "id": "d6fe8401",
   "metadata": {},
   "outputs": [],
   "source": []
  },
  {
   "cell_type": "code",
   "execution_count": null,
   "id": "0b8ac44b",
   "metadata": {},
   "outputs": [],
   "source": []
  },
  {
   "cell_type": "code",
   "execution_count": null,
   "id": "80f2da4d",
   "metadata": {},
   "outputs": [],
   "source": []
  },
  {
   "cell_type": "code",
   "execution_count": null,
   "id": "b4ccda91",
   "metadata": {},
   "outputs": [],
   "source": []
  },
  {
   "cell_type": "code",
   "execution_count": null,
   "id": "f06b41a4",
   "metadata": {},
   "outputs": [],
   "source": []
  },
  {
   "cell_type": "code",
   "execution_count": null,
   "id": "e099947d",
   "metadata": {},
   "outputs": [],
   "source": []
  },
  {
   "cell_type": "code",
   "execution_count": null,
   "id": "3c78dd03",
   "metadata": {},
   "outputs": [],
   "source": []
  },
  {
   "cell_type": "code",
   "execution_count": null,
   "id": "1b1c1ad0",
   "metadata": {},
   "outputs": [],
   "source": []
  },
  {
   "cell_type": "code",
   "execution_count": null,
   "id": "fede986e",
   "metadata": {},
   "outputs": [],
   "source": []
  },
  {
   "cell_type": "code",
   "execution_count": null,
   "id": "06d0df33",
   "metadata": {},
   "outputs": [],
   "source": []
  },
  {
   "cell_type": "code",
   "execution_count": null,
   "id": "783318d6",
   "metadata": {},
   "outputs": [],
   "source": []
  },
  {
   "cell_type": "code",
   "execution_count": null,
   "id": "90497538",
   "metadata": {},
   "outputs": [],
   "source": []
  },
  {
   "cell_type": "code",
   "execution_count": null,
   "id": "c4e44678",
   "metadata": {},
   "outputs": [],
   "source": []
  }
 ],
 "metadata": {
  "kernelspec": {
   "display_name": "Python 3 (ipykernel)",
   "language": "python",
   "name": "python3"
  },
  "language_info": {
   "codemirror_mode": {
    "name": "ipython",
    "version": 3
   },
   "file_extension": ".py",
   "mimetype": "text/x-python",
   "name": "python",
   "nbconvert_exporter": "python",
   "pygments_lexer": "ipython3",
   "version": "3.11.4"
  }
 },
 "nbformat": 4,
 "nbformat_minor": 5
}
