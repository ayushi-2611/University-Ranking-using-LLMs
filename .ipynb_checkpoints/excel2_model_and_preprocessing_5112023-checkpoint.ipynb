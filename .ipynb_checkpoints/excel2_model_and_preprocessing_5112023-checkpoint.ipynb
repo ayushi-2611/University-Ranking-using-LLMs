{
 "cells": [
  {
   "cell_type": "code",
   "execution_count": 1,
   "id": "931fc371",
   "metadata": {},
   "outputs": [],
   "source": [
    "import pandas as pd\n",
    "df = pd.read_excel(\"C:/Users/gupta/Python jypter notebook/Data/Excel2.xlsx\")"
   ]
  },
  {
   "cell_type": "code",
   "execution_count": 2,
   "id": "868ed2d1",
   "metadata": {},
   "outputs": [
    {
     "data": {
      "text/plain": [
       "(125, 47)"
      ]
     },
     "execution_count": 2,
     "metadata": {},
     "output_type": "execute_result"
    }
   ],
   "source": [
    "df.shape"
   ]
  },
  {
   "cell_type": "code",
   "execution_count": 3,
   "id": "177ba391",
   "metadata": {},
   "outputs": [
    {
     "data": {
      "text/plain": [
       "2022.Rank in 2020                                 48\n",
       "Students per Staff                                47\n",
       "2020.Rank in 2019                                 46\n",
       "2022.Rank in 2021                                 38\n",
       "International course experience rank 2022-2021    38\n",
       "Research Quality                                  38\n",
       "International work mobility rank 2022-2021        38\n",
       "Value for money rank 2022-2021                    38\n",
       "2020.International students (%)                   35\n",
       "2020.Average course length (months)               35\n",
       "2020.Extra languages                              35\n",
       "2020.Overall satisfaction                         35\n",
       "2020.International mobility rank                  35\n",
       "2020.International faculty (%)                    35\n",
       "2020.Weighted salary (US$)                        35\n",
       "2020.Faculty with doctorates (%)                  35\n",
       "2020.International board (%)                      35\n",
       "Faculty Change                                    30\n",
       "Satisfaction Change                               30\n",
       "Career progress Rank Stability                    27\n",
       "International work mobility Rank Stability        27\n",
       "International course experience Rank Stability    27\n",
       "Careers service Rank Stability                    27\n",
       "Value for money Rank Stability                    27\n",
       "2022.Career progress rank                         25\n",
       "2022.International course experience rank         25\n",
       "2022.Salary percentage increase                   25\n",
       "2022.Weighted salary (US$)                        25\n",
       "2022.Female students (%)                          25\n",
       "2022.Female faculty (%)                           25\n",
       "Value for Money Index                             25\n",
       "2022.Women on board (%)                           25\n",
       "2022.Overall satisfaction                         25\n",
       "2022.Average course length (months)               25\n",
       "2022.Faculty with doctorates (%)                  25\n",
       "2022.Internships (%)                              25\n",
       "2022.Careers service rank                         25\n",
       "2021.Female students (%)                          25\n",
       "2021.International mobility rank                  25\n",
       "2021.International faculty (%)                    25\n",
       "2021.Employed at three months (%)                 25\n",
       "2021.Women on board (%)                           25\n",
       "Citations per Faculty                             23\n",
       "Average Experience of Faculty                     15\n",
       "Instagram engagement %                            15\n",
       "LinkedIn Followers                                 2\n",
       "School Name                                        0\n",
       "dtype: int64"
      ]
     },
     "execution_count": 3,
     "metadata": {},
     "output_type": "execute_result"
    }
   ],
   "source": [
    "pd.set_option('display.max_rows', None)\n",
    "df.isnull().sum().sort_values(ascending=False)"
   ]
  },
  {
   "cell_type": "code",
   "execution_count": null,
   "id": "2eb30406",
   "metadata": {},
   "outputs": [],
   "source": []
  },
  {
   "cell_type": "code",
   "execution_count": null,
   "id": "1d01f255",
   "metadata": {},
   "outputs": [],
   "source": []
  },
  {
   "cell_type": "code",
   "execution_count": null,
   "id": "6b07e779",
   "metadata": {},
   "outputs": [],
   "source": []
  },
  {
   "cell_type": "code",
   "execution_count": null,
   "id": "27e45e36",
   "metadata": {},
   "outputs": [],
   "source": []
  },
  {
   "cell_type": "code",
   "execution_count": null,
   "id": "c5c8a03d",
   "metadata": {},
   "outputs": [],
   "source": []
  },
  {
   "cell_type": "code",
   "execution_count": null,
   "id": "b6793868",
   "metadata": {},
   "outputs": [],
   "source": []
  },
  {
   "cell_type": "code",
   "execution_count": null,
   "id": "41ee440c",
   "metadata": {},
   "outputs": [],
   "source": []
  },
  {
   "cell_type": "code",
   "execution_count": null,
   "id": "6d05a510",
   "metadata": {},
   "outputs": [],
   "source": []
  },
  {
   "cell_type": "code",
   "execution_count": null,
   "id": "fff46faf",
   "metadata": {},
   "outputs": [],
   "source": []
  },
  {
   "cell_type": "code",
   "execution_count": null,
   "id": "925aba4d",
   "metadata": {},
   "outputs": [],
   "source": []
  },
  {
   "cell_type": "code",
   "execution_count": null,
   "id": "5798f72f",
   "metadata": {},
   "outputs": [],
   "source": []
  },
  {
   "cell_type": "code",
   "execution_count": null,
   "id": "4177698d",
   "metadata": {},
   "outputs": [],
   "source": []
  },
  {
   "cell_type": "code",
   "execution_count": null,
   "id": "c6cd3baf",
   "metadata": {},
   "outputs": [],
   "source": []
  },
  {
   "cell_type": "code",
   "execution_count": null,
   "id": "920c0912",
   "metadata": {},
   "outputs": [],
   "source": []
  },
  {
   "cell_type": "code",
   "execution_count": null,
   "id": "4e7a0bbf",
   "metadata": {},
   "outputs": [],
   "source": []
  },
  {
   "cell_type": "code",
   "execution_count": null,
   "id": "76e153c5",
   "metadata": {},
   "outputs": [],
   "source": []
  }
 ],
 "metadata": {
  "kernelspec": {
   "display_name": "Python 3 (ipykernel)",
   "language": "python",
   "name": "python3"
  },
  "language_info": {
   "codemirror_mode": {
    "name": "ipython",
    "version": 3
   },
   "file_extension": ".py",
   "mimetype": "text/x-python",
   "name": "python",
   "nbconvert_exporter": "python",
   "pygments_lexer": "ipython3",
   "version": "3.11.4"
  }
 },
 "nbformat": 4,
 "nbformat_minor": 5
}
